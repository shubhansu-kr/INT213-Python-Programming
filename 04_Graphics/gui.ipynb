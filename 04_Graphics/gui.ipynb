{
 "cells": [
  {
   "cell_type": "code",
   "execution_count": 1,
   "metadata": {},
   "outputs": [
    {
     "ename": "TclError",
     "evalue": "couldn't open \"assets/bootstrap.png\": no such file or directory",
     "output_type": "error",
     "traceback": [
      "\u001b[1;31m---------------------------------------------------------------------------\u001b[0m",
      "\u001b[1;31mTclError\u001b[0m                                  Traceback (most recent call last)",
      "Cell \u001b[1;32mIn [1], line 8\u001b[0m\n\u001b[0;32m      6\u001b[0m root\u001b[39m.\u001b[39mtitle(\u001b[39m\"\u001b[39m\u001b[39mMY GUI\u001b[39m\u001b[39m\"\u001b[39m)\n\u001b[0;32m      7\u001b[0m \u001b[39m# MyLabel = Label(text = \"This is python GUI lecture\")\u001b[39;00m\n\u001b[1;32m----> 8\u001b[0m photo \u001b[39m=\u001b[39m PhotoImage(file\u001b[39m=\u001b[39;49m\u001b[39m\"\u001b[39;49m\u001b[39massets/bootstrap.png\u001b[39;49m\u001b[39m\"\u001b[39;49m)\n\u001b[0;32m      9\u001b[0m MyLabel \u001b[39m=\u001b[39m Label(image \u001b[39m=\u001b[39m photo)\n\u001b[0;32m     10\u001b[0m MyLabel\u001b[39m.\u001b[39mpack()\n",
      "File \u001b[1;32mc:\\Program Files\\Python310\\lib\\tkinter\\__init__.py:4093\u001b[0m, in \u001b[0;36mPhotoImage.__init__\u001b[1;34m(self, name, cnf, master, **kw)\u001b[0m\n\u001b[0;32m   4088\u001b[0m \u001b[39mdef\u001b[39;00m \u001b[39m__init__\u001b[39m(\u001b[39mself\u001b[39m, name\u001b[39m=\u001b[39m\u001b[39mNone\u001b[39;00m, cnf\u001b[39m=\u001b[39m{}, master\u001b[39m=\u001b[39m\u001b[39mNone\u001b[39;00m, \u001b[39m*\u001b[39m\u001b[39m*\u001b[39mkw):\n\u001b[0;32m   4089\u001b[0m     \u001b[39m\"\"\"Create an image with NAME.\u001b[39;00m\n\u001b[0;32m   4090\u001b[0m \n\u001b[0;32m   4091\u001b[0m \u001b[39m    Valid resource names: data, format, file, gamma, height, palette,\u001b[39;00m\n\u001b[0;32m   4092\u001b[0m \u001b[39m    width.\"\"\"\u001b[39;00m\n\u001b[1;32m-> 4093\u001b[0m     Image\u001b[39m.\u001b[39m\u001b[39m__init__\u001b[39m(\u001b[39mself\u001b[39m, \u001b[39m'\u001b[39m\u001b[39mphoto\u001b[39m\u001b[39m'\u001b[39m, name, cnf, master, \u001b[39m*\u001b[39m\u001b[39m*\u001b[39mkw)\n",
      "File \u001b[1;32mc:\\Program Files\\Python310\\lib\\tkinter\\__init__.py:4038\u001b[0m, in \u001b[0;36mImage.__init__\u001b[1;34m(self, imgtype, name, cnf, master, **kw)\u001b[0m\n\u001b[0;32m   4036\u001b[0m         v \u001b[39m=\u001b[39m \u001b[39mself\u001b[39m\u001b[39m.\u001b[39m_register(v)\n\u001b[0;32m   4037\u001b[0m     options \u001b[39m=\u001b[39m options \u001b[39m+\u001b[39m (\u001b[39m'\u001b[39m\u001b[39m-\u001b[39m\u001b[39m'\u001b[39m\u001b[39m+\u001b[39mk, v)\n\u001b[1;32m-> 4038\u001b[0m \u001b[39mself\u001b[39;49m\u001b[39m.\u001b[39;49mtk\u001b[39m.\u001b[39;49mcall((\u001b[39m'\u001b[39;49m\u001b[39mimage\u001b[39;49m\u001b[39m'\u001b[39;49m, \u001b[39m'\u001b[39;49m\u001b[39mcreate\u001b[39;49m\u001b[39m'\u001b[39;49m, imgtype, name,) \u001b[39m+\u001b[39;49m options)\n\u001b[0;32m   4039\u001b[0m \u001b[39mself\u001b[39m\u001b[39m.\u001b[39mname \u001b[39m=\u001b[39m name\n",
      "\u001b[1;31mTclError\u001b[0m: couldn't open \"assets/bootstrap.png\": no such file or directory"
     ]
    }
   ],
   "source": [
    "from tkinter import *\n",
    "root = Tk()\n",
    "root.geometry(\"720x240\")\n",
    "root.maxsize(900,400)\n",
    "root.minsize(200,300)\n",
    "root.title(\"MY GUI\")\n",
    "# MyLabel = Label(text = \"This is python GUI lecture\")\n",
    "photo = PhotoImage(file=\"assets/bootstrap.png\")\n",
    "MyLabel = Label(image = photo)\n",
    "MyLabel.pack()\n",
    "root.mainloop()"
   ]
  },
  {
   "cell_type": "code",
   "execution_count": 2,
   "metadata": {},
   "outputs": [],
   "source": [
    "from tkinter import *\n",
    "root = Tk()\n",
    "root.geometry(\"720x240\")\n",
    "root.maxsize(900,400)\n",
    "root.minsize(200,300)\n",
    "root.title(\"MY GUI\")\n",
    "MyLabel = Label(text = \"Suuuuuuuuiiiiiiiiii\",\n",
    "fg = \"white\",\n",
    "bg = \"black\",\n",
    "font = \"calibre 19 bold\",\n",
    "relief = GROOVE,\n",
    "borderwidth = 5,padx=20, pady=25)\n",
    "MyLabel.pack(side=LEFT,anchor=\"nw\")\n",
    "\n",
    "root.mainloop()"
   ]
  },
  {
   "cell_type": "code",
   "execution_count": 3,
   "metadata": {},
   "outputs": [
    {
     "name": "stdout",
     "output_type": "stream",
     "text": [
      "Hello World\n",
      "Hello World\n",
      "Hello World\n",
      "Hello World\n",
      "Hello World\n",
      "Hello World\n"
     ]
    }
   ],
   "source": [
    "from tkinter import *\n",
    "def hello(self):\n",
    "    print(\"Hello World\")\n",
    "root = Tk()\n",
    "root.geometry(\"720x240\")\n",
    "root.maxsize(900,400)\n",
    "root.minsize(200,300)\n",
    "root.title(\"MY GUI\")\n",
    "f = Frame(root,borderwidth =5 , bg = \"grey\", relief = GROOVE)\n",
    "f.pack(side = LEFT)\n",
    "b = Button(f, fg=\"blue\",text = \"print\", bg = \"yellow\")\n",
    "b.pack()\n",
    "b.bind('<Button-1>',hello)\n",
    "\n",
    "root.mainloop()"
   ]
  },
  {
   "cell_type": "code",
   "execution_count": 1,
   "metadata": {},
   "outputs": [],
   "source": [
    "from tkinter import *\n",
    "def hello(self):\n",
    "    print(\"Hello World\")\n",
    "root = Tk()\n",
    "root.geometry(\"720x240\")\n",
    "root.maxsize(900,400)\n",
    "root.minsize(200,300)\n",
    "root.title(\"MY GUI\")\n",
    "user = Label(root,text=\"username\")\n",
    "password = Label(root, text = \"password\")\n",
    "\n",
    "\n",
    "uservalue = StringVar()\n",
    "passvalue = StringVar()\n",
    "\n",
    "t1 = Entry(root,textvariable=uservalue)\n",
    "t2 = Entry(root, textvariable=passvalue)\n",
    "\n",
    "t1.grid(row=0,column=1)\n",
    "t2.grid(row=1, column=1)\n",
    "b = Button(root, fg=\"blue\",text = \"Submit\", bg = \"yellow\")\n",
    "b.grid(row=2, column=1)\n",
    "root.mainloop()"
   ]
  },
  {
   "cell_type": "code",
   "execution_count": 4,
   "metadata": {},
   "outputs": [],
   "source": [
    "from tkinter import *\n",
    "root = Tk()\n",
    "root.geometry(\"720x480\")\n",
    "root.title(\"My GUI\")\n",
    "\n",
    "firstName = Label(root, text=\"First Name\")\n",
    "lastName = Label(root, text=\"Last Name\")\n",
    "section = Label(root, text=\"Section\")\n",
    "rollNo = Label(root, text=\"Roll No\")\n",
    "Group = Label(root,text= \"Group\")\n",
    "firstName.grid(row=0, column=0)\n",
    "lastName.grid(row=1, column=0)\n",
    "section.grid(row=2, column=0)\n",
    "rollNo.grid(row=3, column=0)\n",
    "Group.grid(row =4, column=0)\n",
    "\n",
    "GroupEntry = IntVar()\n",
    "firstNameEntry = Entry(root, textvariable=StringVar())\n",
    "lastNameEntry = Entry(root, textvariable=StringVar())\n",
    "sectionEntry = Entry(root, textvariable=StringVar())\n",
    "rollNoEntry = Entry(root, textvariable=IntVar())\n",
    "\n",
    "\n",
    "firstNameEntry.grid(row=0, column=1)\n",
    "lastNameEntry.grid(row=1, column=1)\n",
    "sectionEntry.grid(row=2, column=1)\n",
    "rollNoEntry.grid(row=3, column=1)\n",
    "\n",
    "def saveData():\n",
    "    f = open(\"students.txt\",\"a\")\n",
    "    f.write(\"First Name : \"+firstNameEntry.get())\n",
    "    f.write(\"Last Name : \"+lastNameEntry.get())\n",
    "    f.write(\"Section : \"+sectionEntry.get())\n",
    "    f.write(\"Roll No : \"+str(rollNoEntry.get()))\n",
    "    f.write(\"Group : \"+str(GroupEntry.get()))\n",
    "    f.close()\n",
    "\n",
    "G1 = Radiobutton(root, text = \"G1\", variable = IntVar(), value = 1)\n",
    "G1.grid(row = 4, column = 1)\n",
    "G2 = Radiobutton(root, text = \"G2\", variable = IntVar(), value = 2)\n",
    "G2.grid(row = 4, column = 2)\n",
    "submitBtn = Button(root, text=\"Submit\",bg = \"black\", fg=\"white\" ,command = saveData)\n",
    "submitBtn.grid(row=5, column=1)\n",
    "\n",
    "root.mainloop()"
   ]
  }
 ],
 "metadata": {
  "kernelspec": {
   "display_name": "Python 3.10.2 64-bit",
   "language": "python",
   "name": "python3"
  },
  "language_info": {
   "codemirror_mode": {
    "name": "ipython",
    "version": 3
   },
   "file_extension": ".py",
   "mimetype": "text/x-python",
   "name": "python",
   "nbconvert_exporter": "python",
   "pygments_lexer": "ipython3",
   "version": "3.10.2"
  },
  "orig_nbformat": 4,
  "vscode": {
   "interpreter": {
    "hash": "26de051ba29f2982a8de78e945f0abaf191376122a1563185a90213a26c5da77"
   }
  }
 },
 "nbformat": 4,
 "nbformat_minor": 2
}
